{
 "cells": [
  {
   "cell_type": "code",
   "execution_count": 1,
   "id": "1ac1eb9f-fa58-47bf-9a81-7cba535c305a",
   "metadata": {},
   "outputs": [],
   "source": [
    "def jam(a,b):\n",
    "    c=a+b\n",
    "    return c"
   ]
  },
  {
   "cell_type": "code",
   "execution_count": 2,
   "id": "1f1ee772-d0b4-4381-95be-4b96a49b62ee",
   "metadata": {},
   "outputs": [
    {
     "data": {
      "text/plain": [
       "5"
      ]
     },
     "execution_count": 2,
     "metadata": {},
     "output_type": "execute_result"
    }
   ],
   "source": [
    "3+2\n",
    "\n"
   ]
  },
  {
   "cell_type": "code",
   "execution_count": 5,
   "id": "f5b1cfee-e082-478c-85bf-f60cede4b703",
   "metadata": {},
   "outputs": [],
   "source": [
    "def tafrihg(a,b):\n",
    "    d=a-b\n",
    "    return d\n",
    "    "
   ]
  },
  {
   "cell_type": "code",
   "execution_count": 4,
   "id": "9a6984a1-b9fb-459f-8539-ea19fc3e34af",
   "metadata": {},
   "outputs": [
    {
     "data": {
      "text/plain": [
       "1"
      ]
     },
     "execution_count": 4,
     "metadata": {},
     "output_type": "execute_result"
    }
   ],
   "source": [
    "10-9"
   ]
  },
  {
   "cell_type": "code",
   "execution_count": 6,
   "id": "5f572fd5-ce32-4c15-835f-aeaf56f01001",
   "metadata": {},
   "outputs": [],
   "source": [
    "def zarb(a,b):\n",
    "    e=a*b\n",
    "    return e"
   ]
  },
  {
   "cell_type": "code",
   "execution_count": 7,
   "id": "bbca382f-b08e-4cf2-a00a-e9c246aaf139",
   "metadata": {},
   "outputs": [
    {
     "data": {
      "text/plain": [
       "85.0"
      ]
     },
     "execution_count": 7,
     "metadata": {},
     "output_type": "execute_result"
    }
   ],
   "source": [
    "10*8.5"
   ]
  },
  {
   "cell_type": "code",
   "execution_count": 8,
   "id": "42045521-402e-4e07-98e3-4120bbd0644d",
   "metadata": {},
   "outputs": [],
   "source": [
    "def taghsim(a,b):\n",
    "    f=a/b\n",
    "    return f"
   ]
  },
  {
   "cell_type": "code",
   "execution_count": 9,
   "id": "30e57589-cbe0-4078-a87e-27751fce3e12",
   "metadata": {},
   "outputs": [
    {
     "data": {
      "text/plain": [
       "3.6956521739130435"
      ]
     },
     "execution_count": 9,
     "metadata": {},
     "output_type": "execute_result"
    }
   ],
   "source": [
    "85/23"
   ]
  },
  {
   "cell_type": "code",
   "execution_count": 10,
   "id": "d4aa32c0-bd73-4fff-8c6d-555f72a474c6",
   "metadata": {},
   "outputs": [],
   "source": [
    "def baqimande(a,b):\n",
    "    g=a%b\n",
    "    return g"
   ]
  },
  {
   "cell_type": "code",
   "execution_count": 11,
   "id": "3a07df7a-6862-4ec9-b3fd-4b9723384b55",
   "metadata": {},
   "outputs": [
    {
     "data": {
      "text/plain": [
       "16"
      ]
     },
     "execution_count": 11,
     "metadata": {},
     "output_type": "execute_result"
    }
   ],
   "source": [
    "85%23"
   ]
  },
  {
   "cell_type": "code",
   "execution_count": null,
   "id": "33fe868d-dbb1-463d-9247-750dc721c978",
   "metadata": {},
   "outputs": [],
   "source": []
  }
 ],
 "metadata": {
  "kernelspec": {
   "display_name": "Python 3 (ipykernel)",
   "language": "python",
   "name": "python3"
  },
  "language_info": {
   "codemirror_mode": {
    "name": "ipython",
    "version": 3
   },
   "file_extension": ".py",
   "mimetype": "text/x-python",
   "name": "python",
   "nbconvert_exporter": "python",
   "pygments_lexer": "ipython3",
   "version": "3.11.6"
  }
 },
 "nbformat": 4,
 "nbformat_minor": 5
}
